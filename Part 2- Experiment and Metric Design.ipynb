{
 "cells": [
  {
   "cell_type": "markdown",
   "id": "485724e1",
   "metadata": {},
   "source": [
    "1) What would you choose as the key measure of success of this experiment in encouraging driver partners to serve both cities, and why would you choose this metric?\n"
   ]
  },
  {
   "cell_type": "markdown",
   "id": "c75c4c1d",
   "metadata": {},
   "source": [
    "The key measure of success would be if both cities are able to reimburse drivers of all toll costs. The other key measure of success would be to measure total number of cross-city trips. I chose this because this encourages drivers to be available in both cities, and if drivers are more evenly distributed between both cities, we might expect average wait time to decrease. Measureing the total number of cross-city trips would allow us to get a direct measurement of the effect of the policy."
   ]
  },
  {
   "cell_type": "markdown",
   "id": "01c07af1",
   "metadata": {},
   "source": [
    "2) Describe a practical experiment you would design to compare the effectiveness of the proposed change in relation to the key measure of success. Please provide details on:\n",
    "\n",
    "a) how you will implement the experiment\n",
    "\n",
    "b) what statistical test(s) you will conduct to verify the significance of the observation\n",
    "\n",
    "c) how you would interpret the results and provide recommendations to the city operations team along with any caveats."
   ]
  },
  {
   "cell_type": "markdown",
   "id": "d7966d64",
   "metadata": {},
   "source": [
    "a)I would implement a prepost designed experiment meaning, I would first collect data before we intervene for a specified amount of time. In this case I would collect data for 3 months before we intervene. Then I would implement the policy of reimbursing all of the tolls during the next 3 months and track if all tolls were successfully reimbursed."
   ]
  },
  {
   "cell_type": "markdown",
   "id": "a4b3094c",
   "metadata": {},
   "source": [
    "b) I would conduct a paired sample t-test to verify the significance of the observation. This test is used when the same subjects are measured twice under different conditions. I would calculate the average number of trips for the 'before' and 'after' period, and then calculate the 't-statistic' based on the means and variability. "
   ]
  },
  {
   "cell_type": "markdown",
   "id": "d8b5041f",
   "metadata": {},
   "source": [
    "c) If the p-value associated with the t-statistic is less than .05 then I would reject the the proposal of reimbursing toll costs and conclude that there is a statistically significant difference in the number of cross-city trips made by drivers before and after the policy change. In other words, if the p-value is small, it is unlikely that the observed difference in the number of cross-city trips happened by chance alone, and is likely due to the policy change.\n",
    "If the p-value appeared successful, I would recommend the policy change, as it appears to be both feasible and effective in encouraging drivers to serve both cities.\n",
    "\n",
    "Some caveats that could have affected the drivers would be seasons changing or weather flucations causing a difference in driver behavior. While total number of cross-city trips is a direct measure of the policy's success, it would be useful to also monitor other indicators of service quality, such as average wait times or customer ratings."
   ]
  },
  {
   "cell_type": "code",
   "execution_count": null,
   "id": "48b92b10",
   "metadata": {},
   "outputs": [],
   "source": []
  },
  {
   "cell_type": "code",
   "execution_count": null,
   "id": "8d17f0de",
   "metadata": {},
   "outputs": [],
   "source": []
  }
 ],
 "metadata": {
  "kernelspec": {
   "display_name": "Python 3 (ipykernel)",
   "language": "python",
   "name": "python3"
  },
  "language_info": {
   "codemirror_mode": {
    "name": "ipython",
    "version": 3
   },
   "file_extension": ".py",
   "mimetype": "text/x-python",
   "name": "python",
   "nbconvert_exporter": "python",
   "pygments_lexer": "ipython3",
   "version": "3.10.9"
  }
 },
 "nbformat": 4,
 "nbformat_minor": 5
}
